{
 "cells": [
  {
   "cell_type": "code",
   "execution_count": 1,
   "metadata": {
    "collapsed": false
   },
   "outputs": [],
   "source": [
    "import json\n",
    "from dictlearn.vocab import Vocabulary\n",
    "from collections import Counter\n",
    "\n",
    "def load_dict(filename):                   \n",
    "    return json.load(open(filename, \"r\"))\n",
    "\n",
    "\n",
    "#dict_snli = load_dict(\"data/dict_snli.json\")\n",
    "#dict_crawled = load_dict(\"data/dict_obw.json\")\n",
    "dict_crawled = load_dict(\"data/onebillionword/wn/dict_obw.json\")\n",
    "\n",
    "vocab = Vocabulary(\"data/onebillionword/vocab.txt\")\n",
    "\n"
   ]
  },
  {
   "cell_type": "code",
   "execution_count": 15,
   "metadata": {
    "collapsed": false
   },
   "outputs": [],
   "source": [
    "import matplotlib.pyplot as plt\n",
    "%matplotlib inline\n",
    "\n",
    "def counts_len_def(dict_):\n",
    "    n_defs = Counter()\n",
    "    for k,v in dict_.iteritems():\n",
    "        n_defs[len(v)] += 1\n",
    "    return n_defs\n",
    "\n",
    "def analyze_dict(dict_, vocab, top_k, max_len=30, max_def_num=14):\n",
    "    words = vocab.words[5:]\n",
    "    freqs = vocab.frequencies[5:]\n",
    "    list_defs = [dict_.get(w, []) for w in words]\n",
    "    list_defs = [defs for defs in list_defs if defs != [] ]\n",
    "    n_defs = [len(list_def) for list_def in list_defs]\n",
    "    print \"min # of defs:\", min(n_defs)\n",
    "    print \"max # of defs:\", max(n_defs)\n",
    "    print Counter(n_defs)\n",
    "    plt.hist(n_defs, bins=(max(n_defs) - min(n_defs)))\n",
    "    plt.title(\"Histogram of # of defs\")\n",
    "    plt.show()\n",
    "\n",
    "    #def_lens = [len(def_) for list_defs in dict_.values() for def_ in list_defs]\n",
    "    def_lens = [len(def_) for defs in list_defs for def_ in defs ]\n",
    "    print \"min len of def:\", min(def_lens)\n",
    "    print \"max len of def:\", max(def_lens)\n",
    "    plt.hist(def_lens, bins=(max(def_lens) - min(def_lens)))\n",
    "    plt.title(\"Histogram of length of defs\")\n",
    "    plt.show()\n",
    "\n",
    "    inf_len = sum([1 if dl > max_len else 0 for dl in def_lens])\n",
    "    sup_len = sum([1 if dl <= max_len else 0 for dl in def_lens])\n",
    "    print \"percent of def which len <= \" + str(max_len), (inf_len * 100.) / (inf_len + sup_len)\n",
    "    \n",
    "    inf_num = sum([1 if dl > max_def_num else 0 for dl in n_defs])\n",
    "    sup_num = sum([1 if dl <= max_def_num else 0 for dl in n_defs])\n",
    "    print \"percent of entries wheere # def <= \" + str(max_def_num), (inf_num * 100.) / (inf_num + sup_num)\n",
    "\n",
    "\n"
   ]
  },
  {
   "cell_type": "code",
   "execution_count": 16,
   "metadata": {
    "collapsed": false
   },
   "outputs": [
    {
     "name": "stdout",
     "output_type": "stream",
     "text": [
      "min # of defs: 1\n",
      "max # of defs: 75\n",
      "Counter({1: 31610, 2: 11368, 3: 5215, 4: 2720, 5: 1702, 6: 1043, 7: 815, 8: 463, 9: 356, 10: 279, 11: 202, 12: 151, 13: 130, 14: 86, 15: 85, 16: 72, 17: 60, 18: 54, 20: 28, 22: 28, 19: 26, 21: 24, 23: 19, 24: 14, 25: 14, 27: 10, 26: 9, 30: 7, 36: 7, 38: 7, 28: 6, 31: 6, 34: 6, 37: 6, 29: 5, 44: 5, 45: 5, 32: 4, 52: 4, 33: 3, 35: 2, 39: 2, 40: 2, 41: 2, 42: 2, 43: 2, 47: 2, 60: 2, 46: 1, 48: 1, 50: 1, 51: 1, 54: 1, 57: 1, 70: 1, 72: 1, 75: 1})\n"
     ]
    },
    {
     "data": {
      "image/png": "[encoded data removed]",
      "text/plain": [
       "<matplotlib.figure.Figure at 0x7f5692228550>"
      ]
     },
     "metadata": {},
     "output_type": "display_data"
    },
    {
     "name": "stdout",
     "output_type": "stream",
     "text": [
      "min len of def: 1\n",
      "max len of def: 79\n"
     ]
    },
    {
     "data": {
      "image/png": "[encoded data removed]",
      "text/plain": [
       "<matplotlib.figure.Figure at 0x7f568a8ede10>"
      ]
     },
     "metadata": {},
     "output_type": "display_data"
    },
    {
     "name": "stdout",
     "output_type": "stream",
     "text": [
      "percent of def which len <= 30 0.880406341388\n",
      "percent of entries wheere # def <= 14 0.950969494875\n"
     ]
    }
   ],
   "source": [
    "top_k=10000\n",
    "\n",
    "#analyze_dict(dict_snli, vocab, top_k)\n",
    "analyze_dict(dict_crawled, vocab, top_k)"
   ]
  },
  {
   "cell_type": "code",
   "execution_count": null,
   "metadata": {
    "collapsed": true
   },
   "outputs": [],
   "source": []
  }
 ],
 "metadata": {
  "kernelspec": {
   "display_name": "Python 2",
   "language": "python",
   "name": "python2"
  },
  "language_info": {
   "codemirror_mode": {
    "name": "ipython",
    "version": 2
   },
   "file_extension": ".py",
   "mimetype": "text/x-python",
   "name": "python",
   "nbconvert_exporter": "python",
   "pygments_lexer": "ipython2",
   "version": "2.7.13"
  }
 },
 "nbformat": 4,
 "nbformat_minor": 2
}
